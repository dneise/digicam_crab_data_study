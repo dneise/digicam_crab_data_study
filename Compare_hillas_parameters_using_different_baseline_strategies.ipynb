{
 "cells": [
  {
   "cell_type": "markdown",
   "metadata": {},
   "source": [
    "# Estimation of degradation of sensitivity induced by one baseline every 2 seconds rather than for every event \n",
    "\n",
    "\n",
    "\n",
    "This document contains a study required after our discussion of the document \"R1 & DL0 Telescope Event Interfaces\n",
    "and Prototype Evaluation\" V0.1 from 06.02.2018  (I would put a link here, but as usual CTA avoids transparent version control in favor of secrecy and friction, so despite me having the document itself, I have absolutely no clue where it is hosted.)\n",
    "\n",
    "We (i.e. the SST1M/Digicam analysis telcon) understand this document especially chapter \"3.1 R1.TEL.EVT data model\" in such a way, that every calibration step from R0 to R1 needs to be revertible. \n",
    "\n",
    "Part of our calibration is event-wise and pixel-wise baseline subtraction. We get one uint16 per event and pixel from the camera so we can subtract it. But we understand the document in such a way, that we must not apply this calibration, because we are not allowed to store these calibration constants, and since we must not store them, we cannot revert this calibration step. \n",
    "\n",
    "While we get the baseline for every pixel with every event, we could alternatively ignore almost all of these event-wise baselines and instead use one value for all events within a certain time window, e.g. 2sec and thus reduce the performance of the calibration.\n",
    "\n",
    "We are not sure about the impact of this on sensitivity. This study tries to give a hint ... it cannot fully answer this question, since for a complete study of the sensitivity we'd need monte carlos, which I think do not exist yet.\n",
    "\n",
    "### Dataset\n",
    "\n",
    "I have access to the Crab Dataset from Nov 2017 taken in Kraków and will try to assess the impact of a reduced baseline sampling frequency on the estimated hillas parameters and on the event rate after cuts. \n",
    "\n",
    "The zfits files I have downloaded with a shell script named \"download_crab_2017_10_30.sh\" provided by Etienne. No aux-files are needed for this study.\n",
    "\n",
    "### Reproducability:\n",
    "\n",
    "\n",
    "This study is fully contained in this single ipython-notebook. So you should be able to download it and repeat this study (rather quickyly).\n",
    "\n",
    "This notebook expects the fits.fz files in this the place pointed to by the variable `raw_file_path`. Please adjust this to your local setup.\n",
    "\n",
    "In this notebook I only execute/call analysis functions, I do not implement them here. Since for this study I needed to make some variations from the current digicampipe master, I created a branch for this study.\n",
    "\n",
    "https://github.com/cta-sst-1m/digicampipe/tree/crab_analysis_study_dneise\n",
    "\n",
    "So ... to reproduce this study, you'll have to downloand and install this particular branch. \n",
    "For the digicampipe developers this means, independend of the question if this branch is ever merged or not, it must never be deleted, since the reproducability of this study depends on it.\n",
    "\n",
    "This is a nuisance ... a better solution would be to base all studies only on released versions of digigcampipe. github takes care of storing all releases forever (more or less)...\n",
    "\n",
    "### What's this `if not os.path.isfile` stuff about?\n",
    "\n",
    "Since I am often playing around in the lower parts of this study, I did not want to re-process all the previous parts all the time. So when ever I had the feeling that a certain part is done, I wrote an output file. \n",
    "In case a file of this name already existed, the code would simply not re-analyse everything again.\n",
    "\n",
    "So in case you would like to do the plots ... but not wait for the analysis to finish. just ask me for the files ... they are only few MB .. I can send them to you. (not sure I can publish them on githib though).\n",
    "\n",
    "Also, I only use the runs starting at 019, the files before never contained any event after cuts."
   ]
  },
  {
   "cell_type": "code",
   "execution_count": 1,
   "metadata": {},
   "outputs": [
    {
     "name": "stderr",
     "output_type": "stream",
     "text": [
      "/home/dneise/anaconda3/lib/python3.6/site-packages/h5py/__init__.py:36: FutureWarning: Conversion of the second argument of issubdtype from `float` to `np.floating` is deprecated. In future, it will be treated as `np.float64 == np.dtype(float).type`.\n",
      "  from ._conv import register_converters as _register_converters\n"
     ]
    }
   ],
   "source": [
    "raw_file_path = '../data'\n",
    "\n",
    "import os, os.path\n",
    "import time\n",
    "\n",
    "import numpy as np\n",
    "import matplotlib.pyplot as plt\n",
    "%matplotlib inline\n",
    "import pandas as pd\n",
    "from digicampipe.io.event_stream import event_stream\n",
    "from digicampipe.utils import histogram\n",
    "from digicampipe.io.zfits import ZFile\n",
    "\n",
    "from glob import glob\n",
    "from tqdm import tqdm\n",
    "\n",
    "from digicampipe.scripts.baseline import main as save_dark_baseline\n",
    "from digicampipe.scripts.pipeline_crab import main as pipeline_crab\n",
    "from digicampipe.scripts.pipeline_crab_using_digicam_baseline import main as pipeline_crab_using_digicam_baseline\n"
   ]
  },
  {
   "cell_type": "code",
   "execution_count": 2,
   "metadata": {
    "collapsed": true
   },
   "outputs": [],
   "source": [
    "if not os.path.isfile('./dark_baseline.npz'):\n",
    "    save_dark_baseline(\n",
    "        baseline_file_path='./dark_baseline.npz',\n",
    "        files=[os.path.join(raw_file_path, 'SST1M01_20171030.002.fits.fz')]\n",
    "    )"
   ]
  },
  {
   "cell_type": "code",
   "execution_count": 3,
   "metadata": {},
   "outputs": [
    {
     "data": {
      "text/plain": [
       "73"
      ]
     },
     "execution_count": 3,
     "metadata": {},
     "output_type": "execute_result"
    }
   ],
   "source": [
    "paths = []\n",
    "for path in sorted(glob(raw_file_path + '/*.fits.fz')):\n",
    "    run_id = int(path[-11:-8])\n",
    "    if run_id >= 19:\n",
    "        paths.append(path)\n",
    "len(paths)"
   ]
  },
  {
   "cell_type": "code",
   "execution_count": 4,
   "metadata": {
    "collapsed": true
   },
   "outputs": [],
   "source": [
    "def perform_analysis(\n",
    "    analysis,\n",
    "    paths,\n",
    "    output_directory,\n",
    "    baseline_path='./dark_baseline.npz',\n",
    "):\n",
    "    os.makedirs(output_directory, exist_ok=True)\n",
    "    for path in paths:\n",
    "        basename = os.path.split(path)[1]\n",
    "        basename_no_ext = basename[:-8]\n",
    "        run_id = int(basename_no_ext[-3:])\n",
    "        outfile_name = os.path.join(\n",
    "            output_directory,\n",
    "            basename_no_ext + '.jsonl'\n",
    "        )\n",
    "        if not os.path.isfile(outfile_name):\n",
    "            hillas_parameters = pd.DataFrame(\n",
    "                pipeline_crab(\n",
    "                    files=[path],\n",
    "                    baseline_path=baseline_path,\n",
    "                )\n",
    "            )\n",
    "            hillas_parameters['run_id'] = run_id\n",
    "            hillas_parameters.to_json(\n",
    "                outfile_name, \n",
    "                lines=True, \n",
    "                orient='records'\n",
    "            )\n"
   ]
  },
  {
   "cell_type": "code",
   "execution_count": null,
   "metadata": {
    "collapsed": true
   },
   "outputs": [],
   "source": [
    "perform_analysis(\n",
    "    analysis=pipeline_crab,\n",
    "    paths=paths,\n",
    "    output_directory='hillas_parameters_according_to_std_pipeline_crab'\n",
    ")"
   ]
  },
  {
   "cell_type": "code",
   "execution_count": null,
   "metadata": {},
   "outputs": [
    {
     "name": "stderr",
     "output_type": "stream",
     "text": [
      "/home/dneise/sst/ctapipe/ctapipe/image/hillas.py:582: RuntimeWarning: invalid value encountered in sqrt\n",
      "  width = np.sqrt((vy2 + vx2 - z) / 2.0)\n"
     ]
    }
   ],
   "source": [
    "perform_analysis(\n",
    "    analysis=pipeline_crab_using_digicam_baseline,\n",
    "    paths=paths,\n",
    "    output_directory='hillas_parameters_using_digicam_baseline'\n",
    ")"
   ]
  },
  {
   "cell_type": "code",
   "execution_count": null,
   "metadata": {
    "collapsed": true
   },
   "outputs": [],
   "source": []
  }
 ],
 "metadata": {
  "kernelspec": {
   "display_name": "Python 3",
   "language": "python",
   "name": "python3"
  },
  "language_info": {
   "codemirror_mode": {
    "name": "ipython",
    "version": 3
   },
   "file_extension": ".py",
   "mimetype": "text/x-python",
   "name": "python",
   "nbconvert_exporter": "python",
   "pygments_lexer": "ipython3",
   "version": "3.6.3"
  }
 },
 "nbformat": 4,
 "nbformat_minor": 2
}
